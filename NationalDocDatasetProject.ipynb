{
 "cells": [
  {
   "cell_type": "code",
   "execution_count": 20,
   "id": "14e45131-c349-48c2-be8e-1ef96236f9cb",
   "metadata": {},
   "outputs": [],
   "source": [
    "import csv\n",
    "import math\n",
    "import re\n",
    "import pandas as pd\n",
    "import requests\n",
    "import numpy as np\n",
    "import io"
   ]
  },
  {
   "cell_type": "markdown",
   "id": "5bf7d622-32bb-4e0c-ba84-a92130b96eba",
   "metadata": {},
   "source": [
    "Dataset Location\n",
    "\n",
    "The Dataset cannot be pushed to Github. Github has decreased the allowed file size so the dataset will have to be downloaded manually.\n",
    "\n",
    "The url is: https://data.cms.gov/provider-data/sites/default/files/resources/69a75aa9d3dc1aed6b881725cf0ddc12_1671768321/DAC_NationalDownloadableFile.csv\n",
    "\n",
    "The Data Dictionary for this section of datasets: https://data.cms.gov/provider-data/sites/default/files/data_dictionaries/physician/DOC_Data_Dictionary.pdf\n",
    "\n",
    "The webpage for this section of datasets: https://data.cms.gov/provider-data/topics/doctors-clinicians\n"
   ]
  },
  {
   "cell_type": "code",
   "execution_count": 5,
   "id": "7c1dd3f5-4d63-4d1b-882c-5a156f04e33e",
   "metadata": {},
   "outputs": [],
   "source": [
    "df = pd.read_csv('NationalDocData/DAC_NationalDownloadableFile.csv', encoding='windows-1252', dtype='string')"
   ]
  },
  {
   "cell_type": "markdown",
   "id": "784c82c3-4cfe-4a65-b10c-29e9662e7062",
   "metadata": {},
   "source": [
    "(TODO) Filtering and Cleaning the Dataset\n",
    "\n",
    "Note: Since this is for Physicians, we will need to filter out non-physicians, but keep in mind that some physicians will also have a secondary degree listed under their specialities, so the filtering needs to be a bit smarter"
   ]
  },
  {
   "cell_type": "code",
   "execution_count": 6,
   "id": "e5ed5368-e744-4233-b532-2c43c1a3dcee",
   "metadata": {},
   "outputs": [
    {
     "name": "stdout",
     "output_type": "stream",
     "text": [
      "             adr_ln_1             cty  st        zip                pri_spec\n",
      "0     1582 N BROAD ST        TAZEWELL  TN  378794352      NURSE PRACTITIONER\n",
      "1   5632 ANNAPOLIS RD     BLADENSBURG  MD  207102213      NURSE PRACTITIONER\n",
      "2    611 E CARLSON ST        CHEYENNE  WY  820094335       INTERNAL MEDICINE\n",
      "3         30 RIVER ST      JIM THORPE  PA  182292313            CHIROPRACTIC\n",
      "4  20501 VENTURA BLVD  WOODLAND HILLS  CA  913640847  CLINICAL SOCIAL WORKER\n",
      "2472219\n"
     ]
    }
   ],
   "source": [
    "# NOTE: Optimize This\n",
    "addresses = df[['adr_ln_1', 'cty', 'st', 'zip','pri_spec']]\n",
    "addresses.drop_duplicates()\n",
    "addresses.dropna()\n",
    "addresses = addresses[addresses['adr_ln_1'].str.strip().astype(bool)]\n",
    "addresses = addresses[addresses['cty'].str.strip().astype(bool)]\n",
    "addresses = addresses[addresses['st'].str.strip().astype(bool)]\n",
    "addresses = addresses[addresses['zip'].str.strip().astype(bool)]\n",
    "addresses = addresses[addresses['pri_spec'].str.strip().astype(bool)]\n",
    "addresses['pri_spec'] = addresses['pri_spec'].astype(str)\n",
    "print(addresses.head())\n",
    "print(addresses.shape[0])"
   ]
  },
  {
   "cell_type": "code",
   "execution_count": 7,
   "id": "88a3b813-59e1-4b91-aeb5-100208414875",
   "metadata": {},
   "outputs": [
    {
     "name": "stdout",
     "output_type": "stream",
     "text": [
      "['NURSE PRACTITIONER' 'INTERNAL MEDICINE' 'CHIROPRACTIC'\n",
      " 'CLINICAL SOCIAL WORKER' 'OPTOMETRY' 'ANESTHESIOLOGY' 'FAMILY PRACTICE'\n",
      " 'NEUROLOGY' 'CLINICAL PSYCHOLOGIST' 'DERMATOLOGY' 'PHYSICAL THERAPY'\n",
      " 'OPHTHALMOLOGY' 'ORTHOPEDIC SURGERY' 'HOSPITALIST' 'PSYCHIATRY'\n",
      " 'ORAL SURGERY' 'GENERAL PRACTICE' 'PLASTIC AND RECONSTRUCTIVE SURGERY'\n",
      " 'PHYSICAL MEDICINE AND REHABILITATION' 'GASTROENTEROLOGY' 'UROLOGY'\n",
      " 'PULMONARY DISEASE' 'CERTIFIED REGISTERED NURSE ANESTHETIST (CRNA)'\n",
      " 'REGISTERED DIETITIAN OR NUTRITION PROFESSIONAL' 'PODIATRY'\n",
      " 'ENDOCRINOLOGY' 'CARDIOVASCULAR DISEASE (CARDIOLOGY)'\n",
      " 'MAXILLOFACIAL SURGERY' 'QUALIFIED AUDIOLOGIST' 'OBSTETRICS/GYNECOLOGY'\n",
      " 'PHYSICIAN ASSISTANT' 'PEDIATRIC MEDICINE' 'NEUROSURGERY' 'RHEUMATOLOGY'\n",
      " 'QUALIFIED SPEECH LANGUAGE PATHOLOGIST' 'INTERVENTIONAL PAIN MANAGEMENT'\n",
      " 'OCCUPATIONAL THERAPY' 'EMERGENCY MEDICINE' 'PAIN MANAGEMENT'\n",
      " 'INTERVENTIONAL CARDIOLOGY' 'NEPHROLOGY' 'INFECTIOUS DISEASE'\n",
      " 'GENERAL SURGERY' 'GERIATRIC MEDICINE' 'ALLERGY/IMMUNOLOGY'\n",
      " 'OTOLARYNGOLOGY' 'HEMATOLOGY/ONCOLOGY' 'HAND SURGERY' 'VASCULAR SURGERY'\n",
      " 'CERTIFIED CLINICAL NURSE SPECIALIST (CNS)' 'DIAGNOSTIC RADIOLOGY'\n",
      " 'COLORECTAL SURGERY (PROCTOLOGY)' 'RADIATION ONCOLOGY' 'SPORTS MEDICINE'\n",
      " 'OSTEOPATHIC MANIPULATIVE MEDICINE' 'GERIATRIC PSYCHIATRY'\n",
      " 'CARDIAC SURGERY' 'THORACIC SURGERY' 'PATHOLOGY'\n",
      " 'INTERVENTIONAL RADIOLOGY' 'CARDIAC ELECTROPHYSIOLOGY'\n",
      " 'CRITICAL CARE (INTENSIVISTS)' 'NEUROPSYCHIATRY' 'GYNECOLOGICAL ONCOLOGY'\n",
      " 'MEDICAL ONCOLOGY' 'NUCLEAR MEDICINE' 'SLEEP MEDICINE'\n",
      " 'ADDICTION MEDICINE' 'DENTIST' 'PREVENTIVE MEDICINE'\n",
      " 'UNDERSEA AND HYPERBARIC MEDICINE' 'SURGICAL ONCOLOGY'\n",
      " 'ANESTHESIOLOGY ASSISTANT' 'CERTIFIED NURSE MIDWIFE (CNM)'\n",
      " 'HOSPICE/PALLIATIVE CARE' 'MICROGRAPHIC DERMATOLOGIC SURGERY (MDS)'\n",
      " 'PERIPHERAL VASCULAR DISEASE' 'UNDEFINED PHYSICIAN TYPE (SPECIFY)'\n",
      " 'HEMATOLOGY' 'UNDEFINED NON-PHYSICIAN TYPE (SPECIFY)'\n",
      " 'MEDICAL GENETICS AND GENOMICS' 'MEDICAL TOXICOLOGY'\n",
      " 'ADVANCED HEART FAILURE AND TRANSPLANT CARDIOLOGY'\n",
      " 'HEMATOPOIETIC CELL TRANSPLANTATION AND CELLULAR THERAPY'\n",
      " 'MASS IMMUNIZATION ROSTER BILLER' 'ADULT CONGENITAL HEART DISEASE (ACHD)']\n"
     ]
    }
   ],
   "source": [
    "#Printing Unique Primary Specialites to Filter From\n",
    "print(addresses['pri_spec'].unique())"
   ]
  },
  {
   "cell_type": "code",
   "execution_count": 8,
   "id": "cdfa3321-e1e4-4893-87d1-92cd57a67ace",
   "metadata": {},
   "outputs": [
    {
     "name": "stdout",
     "output_type": "stream",
     "text": [
      "248\n"
     ]
    }
   ],
   "source": [
    "batches = math.ceil(addresses.shape[0] / 10000)\n",
    "print(batches)"
   ]
  },
  {
   "cell_type": "markdown",
   "id": "c8398259-b9d3-4c12-b405-b10242ae58ab",
   "metadata": {},
   "source": [
    "Steps to Get Geolocations of Addresses in Batch\n",
    "\n",
    "Create a loop that generates a CSV for each 247 entries\n",
    "Send the generated CSV to the Census GOV Geolocation API for processing\n",
    "Recieve the response and append it to a local CSV\n",
    "Rinse and repeat until all addresses are converted to geolocations (lat. and long.) to use with a map"
   ]
  },
  {
   "cell_type": "code",
   "execution_count": 102,
   "id": "50abbc69-6061-449a-a71d-932489b943e8",
   "metadata": {},
   "outputs": [],
   "source": [
    "URL = 'https://geocoding.geo.census.gov/geocoder/locations/addressbatch'\n",
    "with open('NationalDocData/test_addresses.csv', 'rb') as input_file:\n",
    "    geo = requests.post(files={'addressFile': input_file}, url=URL, data={'benchmark':'Public_AR_Current'})"
   ]
  },
  {
   "cell_type": "code",
   "execution_count": 103,
   "id": "9141ab73-d1a9-4c54-a6cd-b5f1c8158ce1",
   "metadata": {},
   "outputs": [
    {
     "name": "stdout",
     "output_type": "stream",
     "text": [
      "b'\"000001\",\"8 E View Dr, Whitehouse Station, NJ, 08889\",\"Match\",\"Exact\",\"8 E VIEW DR, WHITEHOUSE STATION, NJ, 08889\",\"-74.76707085499999,40.611750001000075\",\"627779463\",\"R\"\\n'\n"
     ]
    }
   ],
   "source": [
    "print(geo.content)"
   ]
  },
  {
   "cell_type": "code",
   "execution_count": 104,
   "id": "b01f900c-983c-4392-ab65-af6d47deab11",
   "metadata": {},
   "outputs": [
    {
     "name": "stdout",
     "output_type": "stream",
     "text": [
      "<class 'requests.models.Response'>\n"
     ]
    }
   ],
   "source": [
    "print(type(geo))"
   ]
  },
  {
   "cell_type": "code",
   "execution_count": 105,
   "id": "efae6fd3-745c-483b-b749-1cc3be83662d",
   "metadata": {},
   "outputs": [
    {
     "name": "stdout",
     "output_type": "stream",
     "text": [
      "   0 1                                           2      3       \\\n",
      "0  1  8 E View Dr, Whitehouse Station, NJ, 08889  Match  Exact   \n",
      "\n",
      "  4                                            \\\n",
      "0  8 E VIEW DR, WHITEHOUSE STATION, NJ, 08889   \n",
      "\n",
      "  5                                       6         7   \n",
      "0  -74.76707085499999,40.611750001000075  627779463  R  \n"
     ]
    }
   ],
   "source": [
    "#data = need to change response to text and separate values\n",
    "\n",
    "df = pd.read_csv(io.StringIO(geo.text), sep=',', header=None, quoting=csv.QUOTE_ALL, index_col= False)\n",
    "\n",
    "with pd.option_context(\n",
    "    'display.width', None, \n",
    "    'display.max_columns', None,\n",
    "    'display.max_colwidth', -1,\n",
    "    'display.colheader_justify', 'left'):\n",
    "    print(df)"
   ]
  },
  {
   "cell_type": "code",
   "execution_count": 106,
   "id": "df11102d-3899-490d-b8f7-1b9da69ab1be",
   "metadata": {},
   "outputs": [
    {
     "data": {
      "text/html": [
       "<div>\n",
       "<style scoped>\n",
       "    .dataframe tbody tr th:only-of-type {\n",
       "        vertical-align: middle;\n",
       "    }\n",
       "\n",
       "    .dataframe tbody tr th {\n",
       "        vertical-align: top;\n",
       "    }\n",
       "\n",
       "    .dataframe thead th {\n",
       "        text-align: right;\n",
       "    }\n",
       "</style>\n",
       "<table border=\"1\" class=\"dataframe\">\n",
       "  <thead>\n",
       "    <tr style=\"text-align: right;\">\n",
       "      <th></th>\n",
       "      <th>index</th>\n",
       "      <th>0</th>\n",
       "      <th>1</th>\n",
       "      <th>2</th>\n",
       "      <th>3</th>\n",
       "      <th>4</th>\n",
       "      <th>5</th>\n",
       "      <th>6</th>\n",
       "      <th>7</th>\n",
       "    </tr>\n",
       "  </thead>\n",
       "  <tbody>\n",
       "    <tr>\n",
       "      <th>0</th>\n",
       "      <td>0</td>\n",
       "      <td>1</td>\n",
       "      <td>8 E View Dr, Whitehouse Station, NJ, 08889</td>\n",
       "      <td>Match</td>\n",
       "      <td>Exact</td>\n",
       "      <td>8 E VIEW DR, WHITEHOUSE STATION, NJ, 08889</td>\n",
       "      <td>-74.76707085499999,40.611750001000075</td>\n",
       "      <td>627779463</td>\n",
       "      <td>R</td>\n",
       "    </tr>\n",
       "  </tbody>\n",
       "</table>\n",
       "</div>"
      ],
      "text/plain": [
       "   index  0                                           1      2      3  \\\n",
       "0      0  1  8 E View Dr, Whitehouse Station, NJ, 08889  Match  Exact   \n",
       "\n",
       "                                            4  \\\n",
       "0  8 E VIEW DR, WHITEHOUSE STATION, NJ, 08889   \n",
       "\n",
       "                                       5          6  7  \n",
       "0  -74.76707085499999,40.611750001000075  627779463  R  "
      ]
     },
     "execution_count": 106,
     "metadata": {},
     "output_type": "execute_result"
    }
   ],
   "source": [
    "#find latitude and longitude column\n",
    "df.reset_index()"
   ]
  },
  {
   "cell_type": "markdown",
   "id": "02de9d8c-3900-4e6b-88e6-c586193abb1a",
   "metadata": {},
   "source": [
    "If you have a DataFrame with only one row, then access the first (only) row as a Series using iloc, and then the value using the column name:"
   ]
  },
  {
   "cell_type": "code",
   "execution_count": 107,
   "id": "18b2dade-ae36-42b7-810e-d814ecf4b669",
   "metadata": {},
   "outputs": [],
   "source": [
    "coord = df.iloc[0][5]\n",
    "lat, lon = coord.split(',')"
   ]
  },
  {
   "cell_type": "code",
   "execution_count": 108,
   "id": "69557abe-e4f4-4903-b4c3-57d7f92fe64a",
   "metadata": {},
   "outputs": [
    {
     "data": {
      "text/plain": [
       "'-74.76707085499999'"
      ]
     },
     "execution_count": 108,
     "metadata": {},
     "output_type": "execute_result"
    }
   ],
   "source": [
    "lat"
   ]
  },
  {
   "cell_type": "code",
   "execution_count": 109,
   "id": "1f03d5d9-915b-4bf4-81e1-04b3b435243b",
   "metadata": {},
   "outputs": [
    {
     "data": {
      "text/plain": [
       "'40.611750001000075'"
      ]
     },
     "execution_count": 109,
     "metadata": {},
     "output_type": "execute_result"
    }
   ],
   "source": [
    "lon"
   ]
  }
 ],
 "metadata": {
  "kernelspec": {
   "display_name": "Python 3 (ipykernel)",
   "language": "python",
   "name": "python3"
  },
  "language_info": {
   "codemirror_mode": {
    "name": "ipython",
    "version": 3
   },
   "file_extension": ".py",
   "mimetype": "text/x-python",
   "name": "python",
   "nbconvert_exporter": "python",
   "pygments_lexer": "ipython3",
   "version": "3.10.4"
  }
 },
 "nbformat": 4,
 "nbformat_minor": 5
}
