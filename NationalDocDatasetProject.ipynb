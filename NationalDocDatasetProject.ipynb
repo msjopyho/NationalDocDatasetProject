{
 "cells": [
  {
   "cell_type": "code",
   "execution_count": 1,
   "id": "14e45131-c349-48c2-be8e-1ef96236f9cb",
   "metadata": {},
   "outputs": [],
   "source": [
    "import csv\n",
    "import math\n",
    "import re\n",
    "import pandas as pd\n",
    "import requests\n",
    "import numpy as np\n",
    "import io"
   ]
  },
  {
   "cell_type": "markdown",
   "id": "5bf7d622-32bb-4e0c-ba84-a92130b96eba",
   "metadata": {},
   "source": [
    "# Collecting the data\n",
    "\n",
    "The Dataset cannot be pushed to Github. Github has decreased the allowed file size so the dataset will have to be downloaded manually.\n",
    "\n",
    "The url is: https://data.cms.gov/provider-data/sites/default/files/resources/69a75aa9d3dc1aed6b881725cf0ddc12_1671768321/DAC_NationalDownloadableFile.csv\n",
    "\n",
    "The Data Dictionary for this section of datasets: https://data.cms.gov/provider-data/sites/default/files/data_dictionaries/physician/DOC_Data_Dictionary.pdf\n",
    "\n",
    "The webpage for this section of datasets: https://data.cms.gov/provider-data/topics/doctors-clinicians\n"
   ]
  },
  {
   "cell_type": "code",
   "execution_count": 2,
   "id": "7c1dd3f5-4d63-4d1b-882c-5a156f04e33e",
   "metadata": {},
   "outputs": [],
   "source": [
    "df = pd.read_csv('/Users/johannahoang/Downloads/DAC_NationalDownloadableFile.csv', encoding='windows-1252', dtype='string')"
   ]
  },
  {
   "cell_type": "markdown",
   "id": "784c82c3-4cfe-4a65-b10c-29e9662e7062",
   "metadata": {},
   "source": [
    "(TODO) Filtering and Cleaning the Dataset\n",
    "\n",
    "Note: Since this is for Physicians, we will need to filter out non-physicians, but keep in mind that some physicians will also have a secondary degree listed under their specialities, so the filtering needs to be a bit smarter"
   ]
  },
  {
   "cell_type": "code",
   "execution_count": 3,
   "id": "e5ed5368-e744-4233-b532-2c43c1a3dcee",
   "metadata": {},
   "outputs": [
    {
     "name": "stdout",
     "output_type": "stream",
     "text": [
      "             adr_ln_1             cty  st        zip                pri_spec\n",
      "0     1582 N BROAD ST        TAZEWELL  TN  378794352      NURSE PRACTITIONER\n",
      "1   5632 ANNAPOLIS RD     BLADENSBURG  MD  207102213      NURSE PRACTITIONER\n",
      "2    611 E CARLSON ST        CHEYENNE  WY  820094335       INTERNAL MEDICINE\n",
      "3         30 RIVER ST      JIM THORPE  PA  182292313            CHIROPRACTIC\n",
      "4  20501 VENTURA BLVD  WOODLAND HILLS  CA  913640847  CLINICAL SOCIAL WORKER\n",
      "2472219\n"
     ]
    }
   ],
   "source": [
    "# NOTE: Optimize This\n",
    "addresses = df[['adr_ln_1', 'cty', 'st', 'zip','pri_spec']]\n",
    "addresses.drop_duplicates()\n",
    "addresses.dropna()\n",
    "addresses = addresses[addresses['adr_ln_1'].str.strip().astype(bool)]\n",
    "addresses = addresses[addresses['cty'].str.strip().astype(bool)]\n",
    "addresses = addresses[addresses['st'].str.strip().astype(bool)]\n",
    "addresses = addresses[addresses['zip'].str.strip().astype(bool)]\n",
    "addresses = addresses[addresses['pri_spec'].str.strip().astype(bool)]\n",
    "addresses['pri_spec'] = addresses['pri_spec'].astype(str)\n",
    "print(addresses.head())\n",
    "print(addresses.shape[0])"
   ]
  },
  {
   "cell_type": "code",
   "execution_count": 4,
   "id": "88a3b813-59e1-4b91-aeb5-100208414875",
   "metadata": {},
   "outputs": [
    {
     "name": "stdout",
     "output_type": "stream",
     "text": [
      "['NURSE PRACTITIONER' 'INTERNAL MEDICINE' 'CHIROPRACTIC'\n",
      " 'CLINICAL SOCIAL WORKER' 'OPTOMETRY' 'ANESTHESIOLOGY' 'FAMILY PRACTICE'\n",
      " 'NEUROLOGY' 'CLINICAL PSYCHOLOGIST' 'DERMATOLOGY' 'PHYSICAL THERAPY'\n",
      " 'OPHTHALMOLOGY' 'ORTHOPEDIC SURGERY' 'HOSPITALIST' 'PSYCHIATRY'\n",
      " 'ORAL SURGERY' 'GENERAL PRACTICE' 'PLASTIC AND RECONSTRUCTIVE SURGERY'\n",
      " 'PHYSICAL MEDICINE AND REHABILITATION' 'GASTROENTEROLOGY' 'UROLOGY'\n",
      " 'PULMONARY DISEASE' 'CERTIFIED REGISTERED NURSE ANESTHETIST (CRNA)'\n",
      " 'REGISTERED DIETITIAN OR NUTRITION PROFESSIONAL' 'PODIATRY'\n",
      " 'ENDOCRINOLOGY' 'CARDIOVASCULAR DISEASE (CARDIOLOGY)'\n",
      " 'MAXILLOFACIAL SURGERY' 'QUALIFIED AUDIOLOGIST' 'OBSTETRICS/GYNECOLOGY'\n",
      " 'PHYSICIAN ASSISTANT' 'PEDIATRIC MEDICINE' 'NEUROSURGERY' 'RHEUMATOLOGY'\n",
      " 'QUALIFIED SPEECH LANGUAGE PATHOLOGIST' 'INTERVENTIONAL PAIN MANAGEMENT'\n",
      " 'OCCUPATIONAL THERAPY' 'EMERGENCY MEDICINE' 'PAIN MANAGEMENT'\n",
      " 'INTERVENTIONAL CARDIOLOGY' 'NEPHROLOGY' 'INFECTIOUS DISEASE'\n",
      " 'GENERAL SURGERY' 'GERIATRIC MEDICINE' 'ALLERGY/IMMUNOLOGY'\n",
      " 'OTOLARYNGOLOGY' 'HEMATOLOGY/ONCOLOGY' 'HAND SURGERY' 'VASCULAR SURGERY'\n",
      " 'CERTIFIED CLINICAL NURSE SPECIALIST (CNS)' 'DIAGNOSTIC RADIOLOGY'\n",
      " 'COLORECTAL SURGERY (PROCTOLOGY)' 'RADIATION ONCOLOGY' 'SPORTS MEDICINE'\n",
      " 'OSTEOPATHIC MANIPULATIVE MEDICINE' 'GERIATRIC PSYCHIATRY'\n",
      " 'CARDIAC SURGERY' 'THORACIC SURGERY' 'PATHOLOGY'\n",
      " 'INTERVENTIONAL RADIOLOGY' 'CARDIAC ELECTROPHYSIOLOGY'\n",
      " 'CRITICAL CARE (INTENSIVISTS)' 'NEUROPSYCHIATRY' 'GYNECOLOGICAL ONCOLOGY'\n",
      " 'MEDICAL ONCOLOGY' 'NUCLEAR MEDICINE' 'SLEEP MEDICINE'\n",
      " 'ADDICTION MEDICINE' 'DENTIST' 'PREVENTIVE MEDICINE'\n",
      " 'UNDERSEA AND HYPERBARIC MEDICINE' 'SURGICAL ONCOLOGY'\n",
      " 'ANESTHESIOLOGY ASSISTANT' 'CERTIFIED NURSE MIDWIFE (CNM)'\n",
      " 'HOSPICE/PALLIATIVE CARE' 'MICROGRAPHIC DERMATOLOGIC SURGERY (MDS)'\n",
      " 'PERIPHERAL VASCULAR DISEASE' 'UNDEFINED PHYSICIAN TYPE (SPECIFY)'\n",
      " 'HEMATOLOGY' 'UNDEFINED NON-PHYSICIAN TYPE (SPECIFY)'\n",
      " 'MEDICAL GENETICS AND GENOMICS' 'MEDICAL TOXICOLOGY'\n",
      " 'ADVANCED HEART FAILURE AND TRANSPLANT CARDIOLOGY'\n",
      " 'HEMATOPOIETIC CELL TRANSPLANTATION AND CELLULAR THERAPY'\n",
      " 'MASS IMMUNIZATION ROSTER BILLER' 'ADULT CONGENITAL HEART DISEASE (ACHD)']\n"
     ]
    }
   ],
   "source": [
    "#Printing Unique Primary Specialites to Filter From\n",
    "print(addresses['pri_spec'].unique())"
   ]
  },
  {
   "cell_type": "code",
   "execution_count": 5,
   "id": "cdfa3321-e1e4-4893-87d1-92cd57a67ace",
   "metadata": {},
   "outputs": [
    {
     "name": "stdout",
     "output_type": "stream",
     "text": [
      "248\n"
     ]
    }
   ],
   "source": [
    "batches = math.ceil(addresses.shape[0] / 10000)\n",
    "print(batches)"
   ]
  },
  {
   "cell_type": "markdown",
   "id": "c8398259-b9d3-4c12-b405-b10242ae58ab",
   "metadata": {},
   "source": [
    "# Getting Geolocation\n",
    "\n",
    "Create a loop that generates a CSV for each 247 entries\n",
    "Send the generated CSV to the Census GOV Geolocation API for processing\n",
    "Recieve the response and append it to a local CSV\n",
    "Rinse and repeat until all addresses are converted to geolocations (lat. and long.) to use with a map"
   ]
  },
  {
   "cell_type": "code",
   "execution_count": 6,
   "id": "50abbc69-6061-449a-a71d-932489b943e8",
   "metadata": {},
   "outputs": [],
   "source": [
    "URL = 'https://geocoding.geo.census.gov/geocoder/locations/addressbatch'\n",
    "with open('/Users/johannahoang/PycharmProjects/NationalDocData/test_addresses.csv', 'rb') as input_file:\n",
    "    geo = requests.post(files={'addressFile': input_file}, url=URL, data={'benchmark':'Public_AR_Current'})"
   ]
  },
  {
   "cell_type": "code",
   "execution_count": 7,
   "id": "9141ab73-d1a9-4c54-a6cd-b5f1c8158ce1",
   "metadata": {},
   "outputs": [
    {
     "name": "stdout",
     "output_type": "stream",
     "text": [
      "b'\"000001\",\"20 W 34th St., New York,  NY,  10001\",\"Match\",\"Non_Exact\",\"20 W 34TH ST, NEW YORK, NY, 10118\",\"-73.98533698799997,40.748757279000074\",\"59653429\",\"L\"\\n'\n"
     ]
    }
   ],
   "source": [
    "print(geo.content)"
   ]
  },
  {
   "cell_type": "code",
   "execution_count": 8,
   "id": "b01f900c-983c-4392-ab65-af6d47deab11",
   "metadata": {},
   "outputs": [
    {
     "name": "stdout",
     "output_type": "stream",
     "text": [
      "<class 'requests.models.Response'>\n"
     ]
    }
   ],
   "source": [
    "print(type(geo))"
   ]
  },
  {
   "cell_type": "code",
   "execution_count": 9,
   "id": "efae6fd3-745c-483b-b749-1cc3be83662d",
   "metadata": {},
   "outputs": [
    {
     "name": "stdout",
     "output_type": "stream",
     "text": [
      "   0                                     1      2          3  \\\n",
      "0  1  20 W 34th St., New York,  NY,  10001  Match  Non_Exact   \n",
      "\n",
      "                                   4                                      5  \\\n",
      "0  20 W 34TH ST, NEW YORK, NY, 10118  -73.98533698799997,40.748757279000074   \n",
      "\n",
      "          6  7  \n",
      "0  59653429  L  \n"
     ]
    }
   ],
   "source": [
    "#data = need to change response to text and separate values\n",
    "\n",
    "df = pd.read_csv(io.StringIO(geo.text), sep=',', header=None, quoting=csv.QUOTE_ALL, index_col= False)\n",
    "\n",
    "print(df)"
   ]
  },
  {
   "cell_type": "code",
   "execution_count": 10,
   "id": "df11102d-3899-490d-b8f7-1b9da69ab1be",
   "metadata": {},
   "outputs": [
    {
     "data": {
      "text/html": [
       "<div>\n",
       "<style scoped>\n",
       "    .dataframe tbody tr th:only-of-type {\n",
       "        vertical-align: middle;\n",
       "    }\n",
       "\n",
       "    .dataframe tbody tr th {\n",
       "        vertical-align: top;\n",
       "    }\n",
       "\n",
       "    .dataframe thead th {\n",
       "        text-align: right;\n",
       "    }\n",
       "</style>\n",
       "<table border=\"1\" class=\"dataframe\">\n",
       "  <thead>\n",
       "    <tr style=\"text-align: right;\">\n",
       "      <th></th>\n",
       "      <th>index</th>\n",
       "      <th>0</th>\n",
       "      <th>1</th>\n",
       "      <th>2</th>\n",
       "      <th>3</th>\n",
       "      <th>4</th>\n",
       "      <th>5</th>\n",
       "      <th>6</th>\n",
       "      <th>7</th>\n",
       "    </tr>\n",
       "  </thead>\n",
       "  <tbody>\n",
       "    <tr>\n",
       "      <th>0</th>\n",
       "      <td>0</td>\n",
       "      <td>1</td>\n",
       "      <td>20 W 34th St., New York,  NY,  10001</td>\n",
       "      <td>Match</td>\n",
       "      <td>Non_Exact</td>\n",
       "      <td>20 W 34TH ST, NEW YORK, NY, 10118</td>\n",
       "      <td>-73.98533698799997,40.748757279000074</td>\n",
       "      <td>59653429</td>\n",
       "      <td>L</td>\n",
       "    </tr>\n",
       "  </tbody>\n",
       "</table>\n",
       "</div>"
      ],
      "text/plain": [
       "   index  0                                     1      2          3  \\\n",
       "0      0  1  20 W 34th St., New York,  NY,  10001  Match  Non_Exact   \n",
       "\n",
       "                                   4                                      5  \\\n",
       "0  20 W 34TH ST, NEW YORK, NY, 10118  -73.98533698799997,40.748757279000074   \n",
       "\n",
       "          6  7  \n",
       "0  59653429  L  "
      ]
     },
     "execution_count": 10,
     "metadata": {},
     "output_type": "execute_result"
    }
   ],
   "source": [
    "#find latitude and longitude column\n",
    "df.reset_index()"
   ]
  },
  {
   "cell_type": "markdown",
   "id": "02de9d8c-3900-4e6b-88e6-c586193abb1a",
   "metadata": {},
   "source": [
    "If you have a DataFrame with only one row, then access the first (only) row as a Series using iloc, and then the value using the column name:"
   ]
  },
  {
   "cell_type": "code",
   "execution_count": 11,
   "id": "18b2dade-ae36-42b7-810e-d814ecf4b669",
   "metadata": {},
   "outputs": [],
   "source": [
    "coord = df.iloc[0][5]\n",
    "lat, lon = coord.split(',')"
   ]
  },
  {
   "cell_type": "code",
   "execution_count": 12,
   "id": "69557abe-e4f4-4903-b4c3-57d7f92fe64a",
   "metadata": {},
   "outputs": [
    {
     "data": {
      "text/plain": [
       "'-73.98533698799997'"
      ]
     },
     "execution_count": 12,
     "metadata": {},
     "output_type": "execute_result"
    }
   ],
   "source": [
    "lat"
   ]
  },
  {
   "cell_type": "code",
   "execution_count": 13,
   "id": "1f03d5d9-915b-4bf4-81e1-04b3b435243b",
   "metadata": {},
   "outputs": [
    {
     "data": {
      "text/plain": [
       "'40.748757279000074'"
      ]
     },
     "execution_count": 13,
     "metadata": {},
     "output_type": "execute_result"
    }
   ],
   "source": [
    "lon"
   ]
  },
  {
   "cell_type": "code",
   "execution_count": 14,
   "id": "558f7d82-4377-484a-972f-eb177916656d",
   "metadata": {},
   "outputs": [
    {
     "name": "stdout",
     "output_type": "stream",
     "text": [
      "<class 'str'>\n"
     ]
    }
   ],
   "source": [
    "print(type(lon))"
   ]
  },
  {
   "cell_type": "code",
   "execution_count": 15,
   "id": "cc1ea911-c2b8-43c6-b892-87ed731b50dd",
   "metadata": {},
   "outputs": [
    {
     "name": "stdout",
     "output_type": "stream",
     "text": [
      "20 W 34th St., New York,  NY,  10001\n"
     ]
    }
   ],
   "source": [
    "print(df[1].to_string(index=False))"
   ]
  },
  {
   "cell_type": "markdown",
   "id": "7ef176f8-3647-4d89-ac83-57e2c04a1346",
   "metadata": {},
   "source": [
    "# Creating dictionary to create dataframe (preparing csv)\n",
    "- create dictionary (to remove numerical indexes previously made)\n",
    "- pull data from response (geo) and previously made dataframe (addresses)\n",
    "- create method to save into csv (probably not necessary at this step, but wanted to figure out a method when exporting)\n"
   ]
  },
  {
   "cell_type": "code",
   "execution_count": 16,
   "id": "126573e7-a308-4107-a60c-9664c92cd3d0",
   "metadata": {
    "tags": []
   },
   "outputs": [
    {
     "name": "stdout",
     "output_type": "stream",
     "text": [
      "{'Address': '1582 N BROAD ST', 'Latitude': '-73.98533698799997', 'Longitude': '40.748757279000074', 'Primary': 'NURSE PRACTITIONER'}\n"
     ]
    }
   ],
   "source": [
    "x=0\n",
    "new_dict = {}\n",
    "new_dict['Address'] = addresses['adr_ln_1'].iloc[x]\n",
    "new_dict['Latitude'] = lat\n",
    "new_dict['Longitude'] = lon\n",
    "primary= addresses['pri_spec'].iloc[x]\n",
    "new_dict['Primary'] = primary\n",
    "\n",
    "print(new_dict)"
   ]
  },
  {
   "cell_type": "code",
   "execution_count": 17,
   "id": "784cb563-9ca4-4c2e-a4b0-67f116544b29",
   "metadata": {},
   "outputs": [
    {
     "name": "stdout",
     "output_type": "stream",
     "text": [
      "   0                                     1      2          3  \\\n",
      "0  1  20 W 34th St., New York,  NY,  10001  Match  Non_Exact   \n",
      "\n",
      "                                   4                                      5  \\\n",
      "0  20 W 34TH ST, NEW YORK, NY, 10118  -73.98533698799997,40.748757279000074   \n",
      "\n",
      "          6  7  \n",
      "0  59653429  L  \n"
     ]
    }
   ],
   "source": [
    "test_df = pd.DataFrame(new_dict, index=[x])\n",
    "print(df)"
   ]
  },
  {
   "cell_type": "code",
   "execution_count": 18,
   "id": "5c4ebab8-2dd8-46d9-833f-b831d4c92c39",
   "metadata": {},
   "outputs": [
    {
     "name": "stdout",
     "output_type": "stream",
     "text": [
      "           Address            Latitude           Longitude             Primary\n",
      "0  1582 N BROAD ST  -73.98533698799997  40.748757279000074  NURSE PRACTITIONER\n"
     ]
    }
   ],
   "source": [
    "from pathlib import Path\n",
    "\n",
    "output_file = 'my_file.csv'\n",
    "output_dir = Path('Users/johannahoang/PycharmProjects/NationalDocData')\n",
    "\n",
    "output_dir.mkdir(parents=True, exist_ok=True)\n",
    "\n",
    "test_df.to_csv(output_dir / output_file)  # can join path elements with / operator\n",
    "print(test_df)"
   ]
  },
  {
   "cell_type": "code",
   "execution_count": 19,
   "id": "3ac95a64-4a8d-4f57-a353-70cc33fcb71f",
   "metadata": {},
   "outputs": [],
   "source": [
    "# data = addresses[['Latitude', 'Longitude', 'Specialty']]\n",
    "# df2 = pd.DataFrame([[lat,lon,addresses['pri_spec'].iloc[0]]], columns=['Latitude','Longitude', 'Specialty'])\n",
    "# pd.concat([df2, data])\n",
    "# print(data)\n",
    "# # xdf = xdf.reindex(columns = header_list)  \n",
    "# header_list = \n",
    "# xdf.loc[-1] = [2, 3, 4]  # adding a row\n",
    "# xdf.index = df.index + 1  # shifting index\n",
    "# xdf = df.sort_index()  # sorting by index\n"
   ]
  },
  {
   "cell_type": "markdown",
   "id": "f5523d50-821a-4d07-bcc1-be0a4a0c6974",
   "metadata": {},
   "source": [
    "# Utilize GeoPandas to visualize longitude and latitude on US map\n",
    "- site to download shp/shx file: https://www.census.gov/cgi-bin/geo/shapefiles/index.php?year=2022&layergroup=States+%28and+equivalent%29"
   ]
  },
  {
   "cell_type": "code",
   "execution_count": 20,
   "id": "fb546d73-d362-4c1a-b1d4-b0cbe51b7319",
   "metadata": {},
   "outputs": [],
   "source": [
    "import matplotlib.pyplot as plt\n",
    "import geopandas as gpd\n",
    "from shapely.geometry import Point, Polygon"
   ]
  },
  {
   "cell_type": "code",
   "execution_count": 21,
   "id": "22b47d92-ebee-46bc-a234-ce433ededa19",
   "metadata": {},
   "outputs": [
    {
     "data": {
      "text/plain": [
       "<AxesSubplot:>"
      ]
     },
     "execution_count": 21,
     "metadata": {},
     "output_type": "execute_result"
    },
    {
     "data": {
      "image/png": "[encoded data removed]",
      "text/plain": [
       "<Figure size 800x800 with 1 Axes>"
      ]
     },
     "metadata": {},
     "output_type": "display_data"
    }
   ],
   "source": [
    "us_nation_map = gpd.read_file('/Users/johannahoang/PycharmProjects/NationalDocData/tl_2022_us_state.shx') #my code called for shx\n",
    "\n",
    "us_nation_map.crs = 'EPSG:4326' #code was finicky about setting crs first\n",
    "crs = us_nation_map.crs #wanted this defined when setting parameters for geo_df\n",
    "fig, ax = plt.subplots(figsize=(8, 8))\n",
    "us_nation_map.to_crs(epsg=4326).plot(ax=ax, color='lightgrey')\n",
    "\n",
    "ax.set_xlim(-200, -50)\n",
    "ax.set_ylim(20, 80)\n",
    "\n",
    "geometry = [Point(float(lat), float(lon))]\n",
    "geo_df = gpd.GeoDataFrame(pd.DataFrame(), crs=crs, geometry=geometry)\n",
    "geo_df.plot(ax=ax)"
   ]
  },
  {
   "cell_type": "markdown",
   "id": "2ebe7584-4bcc-444f-ae79-c9203a31f5b8",
   "metadata": {},
   "source": [
    "# Create interactive map \n",
    "- folium\n",
    "- gpd explore"
   ]
  },
  {
   "cell_type": "code",
   "execution_count": 22,
   "id": "dad13801-9f56-47c5-8b63-9e40c5d393ea",
   "metadata": {},
   "outputs": [],
   "source": [
    "gdf = gpd.GeoDataFrame(test_df, crs=crs, geometry=geometry)"
   ]
  },
  {
   "cell_type": "code",
   "execution_count": 23,
   "id": "f528db49-892f-49c9-9ce3-ca4631fdd3d5",
   "metadata": {},
   "outputs": [],
   "source": [
    "gdf = gdf[['Primary', 'Address', 'geometry']].fillna(0) #pulls data values to show when hovering over point"
   ]
  },
  {
   "cell_type": "code",
   "execution_count": 24,
   "id": "8881ccec-246d-4143-a4b4-efcf91ce4ecc",
   "metadata": {},
   "outputs": [
    {
     "name": "stdout",
     "output_type": "stream",
     "text": [
      "              Primary          Address                    geometry\n",
      "0  NURSE PRACTITIONER  1582 N BROAD ST  POINT (-73.98534 40.74876)\n"
     ]
    }
   ],
   "source": [
    "print(gdf)"
   ]
  },
  {
   "cell_type": "code",
   "execution_count": 25,
   "id": "94779d01-f3ac-4009-8a96-2f03aaffb47c",
   "metadata": {},
   "outputs": [
    {
     "data": {
      "text/html": [
       "<div style=\"width:100%;\"><div style=\"position:relative;width:100%;height:0;padding-bottom:60%;\"><span style=\"color:#565656\">Make this Notebook Trusted to load map: File -> Trust Notebook</span><iframe srcdoc=\"&lt;!DOCTYPE html&gt;\n",
       "&lt;html&gt;\n",
       "&lt;head&gt;\n",
       "    \n",
       "    &lt;meta http-equiv=&quot;content-type&quot; content=&quot;text/html; charset=UTF-8&quot; /&gt;\n",
       "    \n",
       "        &lt;script&gt;\n",
       "            L_NO_TOUCH = false;\n",
       "            L_DISABLE_3D = false;\n",
       "        &lt;/script&gt;\n",
       "    \n",
       "    &lt;style&gt;html, body {width: 100%;height: 100%;margin: 0;padding: 0;}&lt;/style&gt;\n",
       "    &lt;style&gt;#map {position:absolute;top:0;bottom:0;right:0;left:0;}&lt;/style&gt;\n",
       "    &lt;script src=&quot;https://cdn.jsdelivr.net/npm/leaflet@1.9.3/dist/leaflet.js&quot;&gt;&lt;/script&gt;\n",
       "    &lt;script src=&quot;https://code.jquery.com/jquery-1.12.4.min.js&quot;&gt;&lt;/script&gt;\n",
       "    &lt;script src=&quot;https://cdn.jsdelivr.net/npm/bootstrap@5.2.2/dist/js/bootstrap.bundle.min.js&quot;&gt;&lt;/script&gt;\n",
       "    &lt;script src=&quot;https://cdnjs.cloudflare.com/ajax/libs/Leaflet.awesome-markers/2.0.2/leaflet.awesome-markers.js&quot;&gt;&lt;/script&gt;\n",
       "    &lt;link rel=&quot;stylesheet&quot; href=&quot;https://cdn.jsdelivr.net/npm/leaflet@1.9.3/dist/leaflet.css&quot;/&gt;\n",
       "    &lt;link rel=&quot;stylesheet&quot; href=&quot;https://cdn.jsdelivr.net/npm/bootstrap@5.2.2/dist/css/bootstrap.min.css&quot;/&gt;\n",
       "    &lt;link rel=&quot;stylesheet&quot; href=&quot;https://netdna.bootstrapcdn.com/bootstrap/3.0.0/css/bootstrap.min.css&quot;/&gt;\n",
       "    &lt;link rel=&quot;stylesheet&quot; href=&quot;https://cdn.jsdelivr.net/npm/@fortawesome/fontawesome-free@6.2.0/css/all.min.css&quot;/&gt;\n",
       "    &lt;link rel=&quot;stylesheet&quot; href=&quot;https://cdnjs.cloudflare.com/ajax/libs/Leaflet.awesome-markers/2.0.2/leaflet.awesome-markers.css&quot;/&gt;\n",
       "    &lt;link rel=&quot;stylesheet&quot; href=&quot;https://cdn.jsdelivr.net/gh/python-visualization/folium/folium/templates/leaflet.awesome.rotate.min.css&quot;/&gt;\n",
       "    \n",
       "            &lt;meta name=&quot;viewport&quot; content=&quot;width=device-width,\n",
       "                initial-scale=1.0, maximum-scale=1.0, user-scalable=no&quot; /&gt;\n",
       "            &lt;style&gt;\n",
       "                #map_843068a1b876f6eb90ef66248190e93d {\n",
       "                    position: relative;\n",
       "                    width: 100.0%;\n",
       "                    height: 100.0%;\n",
       "                    left: 0.0%;\n",
       "                    top: 0.0%;\n",
       "                }\n",
       "                .leaflet-container { font-size: 1rem; }\n",
       "            &lt;/style&gt;\n",
       "        \n",
       "    \n",
       "                    &lt;style&gt;\n",
       "                        .foliumtooltip {\n",
       "                            \n",
       "                        }\n",
       "                       .foliumtooltip table{\n",
       "                            margin: auto;\n",
       "                        }\n",
       "                        .foliumtooltip tr{\n",
       "                            text-align: left;\n",
       "                        }\n",
       "                        .foliumtooltip th{\n",
       "                            padding: 2px; padding-right: 8px;\n",
       "                        }\n",
       "                    &lt;/style&gt;\n",
       "            \n",
       "&lt;/head&gt;\n",
       "&lt;body&gt;\n",
       "    \n",
       "    \n",
       "            &lt;div class=&quot;folium-map&quot; id=&quot;map_843068a1b876f6eb90ef66248190e93d&quot; &gt;&lt;/div&gt;\n",
       "        \n",
       "&lt;/body&gt;\n",
       "&lt;script&gt;\n",
       "    \n",
       "    \n",
       "            var map_843068a1b876f6eb90ef66248190e93d = L.map(\n",
       "                &quot;map_843068a1b876f6eb90ef66248190e93d&quot;,\n",
       "                {\n",
       "                    center: [40.748757279000074, -73.98533698799997],\n",
       "                    crs: L.CRS.EPSG3857,\n",
       "                    zoom: 10,\n",
       "                    zoomControl: true,\n",
       "                    preferCanvas: false,\n",
       "                }\n",
       "            );\n",
       "            L.control.scale().addTo(map_843068a1b876f6eb90ef66248190e93d);\n",
       "\n",
       "            \n",
       "\n",
       "        \n",
       "    \n",
       "            var tile_layer_0892a71ea45fa1e6a69532d890fc8449 = L.tileLayer(\n",
       "                &quot;https://{s}.tile.openstreetmap.org/{z}/{x}/{y}.png&quot;,\n",
       "                {&quot;attribution&quot;: &quot;Data by \\u0026copy; \\u003ca target=\\&quot;_blank\\&quot; href=\\&quot;http://openstreetmap.org\\&quot;\\u003eOpenStreetMap\\u003c/a\\u003e, under \\u003ca target=\\&quot;_blank\\&quot; href=\\&quot;http://www.openstreetmap.org/copyright\\&quot;\\u003eODbL\\u003c/a\\u003e.&quot;, &quot;detectRetina&quot;: false, &quot;maxNativeZoom&quot;: 18, &quot;maxZoom&quot;: 18, &quot;minZoom&quot;: 0, &quot;noWrap&quot;: false, &quot;opacity&quot;: 1, &quot;subdomains&quot;: &quot;abc&quot;, &quot;tms&quot;: false}\n",
       "            ).addTo(map_843068a1b876f6eb90ef66248190e93d);\n",
       "        \n",
       "    \n",
       "            map_843068a1b876f6eb90ef66248190e93d.fitBounds(\n",
       "                [[40.748757279000074, -73.98533698799997], [40.748757279000074, -73.98533698799997]],\n",
       "                {}\n",
       "            );\n",
       "        \n",
       "    \n",
       "        function geo_json_bd908817d06eb059e350134c58cc0f14_styler(feature) {\n",
       "            switch(feature.id) {\n",
       "                default:\n",
       "                    return {&quot;fillOpacity&quot;: 0.5, &quot;weight&quot;: 2};\n",
       "            }\n",
       "        }\n",
       "        function geo_json_bd908817d06eb059e350134c58cc0f14_highlighter(feature) {\n",
       "            switch(feature.id) {\n",
       "                default:\n",
       "                    return {&quot;fillOpacity&quot;: 0.75};\n",
       "            }\n",
       "        }\n",
       "        function geo_json_bd908817d06eb059e350134c58cc0f14_pointToLayer(feature, latlng) {\n",
       "            var opts = {&quot;bubblingMouseEvents&quot;: true, &quot;color&quot;: &quot;#3388ff&quot;, &quot;dashArray&quot;: null, &quot;dashOffset&quot;: null, &quot;fill&quot;: true, &quot;fillColor&quot;: &quot;#3388ff&quot;, &quot;fillOpacity&quot;: 0.2, &quot;fillRule&quot;: &quot;evenodd&quot;, &quot;lineCap&quot;: &quot;round&quot;, &quot;lineJoin&quot;: &quot;round&quot;, &quot;opacity&quot;: 1.0, &quot;radius&quot;: 2, &quot;stroke&quot;: true, &quot;weight&quot;: 3};\n",
       "            \n",
       "            let style = geo_json_bd908817d06eb059e350134c58cc0f14_styler(feature)\n",
       "            Object.assign(opts, style)\n",
       "            \n",
       "            return new L.CircleMarker(latlng, opts)\n",
       "        }\n",
       "\n",
       "        function geo_json_bd908817d06eb059e350134c58cc0f14_onEachFeature(feature, layer) {\n",
       "            layer.on({\n",
       "                mouseout: function(e) {\n",
       "                    if(typeof e.target.setStyle === &quot;function&quot;){\n",
       "                        geo_json_bd908817d06eb059e350134c58cc0f14.resetStyle(e.target);\n",
       "                    }\n",
       "                },\n",
       "                mouseover: function(e) {\n",
       "                    if(typeof e.target.setStyle === &quot;function&quot;){\n",
       "                        const highlightStyle = geo_json_bd908817d06eb059e350134c58cc0f14_highlighter(e.target.feature)\n",
       "                        e.target.setStyle(highlightStyle);\n",
       "                    }\n",
       "                },\n",
       "            });\n",
       "        };\n",
       "        var geo_json_bd908817d06eb059e350134c58cc0f14 = L.geoJson(null, {\n",
       "                onEachFeature: geo_json_bd908817d06eb059e350134c58cc0f14_onEachFeature,\n",
       "            \n",
       "                style: geo_json_bd908817d06eb059e350134c58cc0f14_styler,\n",
       "                pointToLayer: geo_json_bd908817d06eb059e350134c58cc0f14_pointToLayer\n",
       "        });\n",
       "\n",
       "        function geo_json_bd908817d06eb059e350134c58cc0f14_add (data) {\n",
       "            geo_json_bd908817d06eb059e350134c58cc0f14\n",
       "                .addData(data)\n",
       "                .addTo(map_843068a1b876f6eb90ef66248190e93d);\n",
       "        }\n",
       "            geo_json_bd908817d06eb059e350134c58cc0f14_add({&quot;bbox&quot;: [-73.98533698799997, 40.748757279000074, -73.98533698799997, 40.748757279000074], &quot;features&quot;: [{&quot;bbox&quot;: [-73.98533698799997, 40.748757279000074, -73.98533698799997, 40.748757279000074], &quot;geometry&quot;: {&quot;coordinates&quot;: [-73.98533698799997, 40.748757279000074], &quot;type&quot;: &quot;Point&quot;}, &quot;id&quot;: &quot;0&quot;, &quot;properties&quot;: {&quot;Address&quot;: &quot;1582 N BROAD ST&quot;, &quot;Primary&quot;: &quot;NURSE PRACTITIONER&quot;}, &quot;type&quot;: &quot;Feature&quot;}], &quot;type&quot;: &quot;FeatureCollection&quot;});\n",
       "\n",
       "        \n",
       "    \n",
       "    geo_json_bd908817d06eb059e350134c58cc0f14.bindTooltip(\n",
       "    function(layer){\n",
       "    let div = L.DomUtil.create(&#x27;div&#x27;);\n",
       "    \n",
       "    let handleObject = feature=&gt;typeof(feature)==&#x27;object&#x27; ? JSON.stringify(feature) : feature;\n",
       "    let fields = [&quot;Primary&quot;, &quot;Address&quot;];\n",
       "    let aliases = [&quot;Primary&quot;, &quot;Address&quot;];\n",
       "    let table = &#x27;&lt;table&gt;&#x27; +\n",
       "        String(\n",
       "        fields.map(\n",
       "        (v,i)=&gt;\n",
       "        `&lt;tr&gt;\n",
       "            &lt;th&gt;${aliases[i]}&lt;/th&gt;\n",
       "            \n",
       "            &lt;td&gt;${handleObject(layer.feature.properties[v])}&lt;/td&gt;\n",
       "        &lt;/tr&gt;`).join(&#x27;&#x27;))\n",
       "    +&#x27;&lt;/table&gt;&#x27;;\n",
       "    div.innerHTML=table;\n",
       "    \n",
       "    return div\n",
       "    }\n",
       "    ,{&quot;className&quot;: &quot;foliumtooltip&quot;, &quot;sticky&quot;: true});\n",
       "                     \n",
       "&lt;/script&gt;\n",
       "&lt;/html&gt;\" style=\"position:absolute;width:100%;height:100%;left:0;top:0;border:none !important;\" allowfullscreen webkitallowfullscreen mozallowfullscreen></iframe></div></div>"
      ],
      "text/plain": [
       "<folium.folium.Map at 0x7fd1e133cd90>"
      ]
     },
     "execution_count": 25,
     "metadata": {},
     "output_type": "execute_result"
    }
   ],
   "source": [
    "gdf.explore()"
   ]
  },
  {
   "cell_type": "code",
   "execution_count": 26,
   "id": "389b4671-bc4f-4709-b610-6e39add8b2f9",
   "metadata": {},
   "outputs": [],
   "source": [
    "# TODO: figure out how to batch size loop\n",
    "\n",
    "# # batch_size = \n",
    "# # data = [1, 1, 2, 3, 5, 8, 13, ...]\n",
    "\n",
    "# # for i in range(0, len(data), batch_size):\n",
    "# #     print(data[i:i+batch_size])"
   ]
  },
  {
   "cell_type": "markdown",
   "id": "dbebfba8-adbd-4a5d-97b6-a5f49424f1b9",
   "metadata": {},
   "source": [
    "# Creating loop\n",
    "- extracting data from addresses dataframe into the API to find the lat and lon \n",
    "- putting data into dictionary\n",
    "- extracting values from dictionary to dataframe"
   ]
  },
  {
   "cell_type": "code",
   "execution_count": 27,
   "id": "26fe0693-8883-4c9b-8560-5d329d177856",
   "metadata": {},
   "outputs": [],
   "source": [
    "#drop primary specitalty\n",
    "geoaddress = addresses.drop('pri_spec', axis=1)"
   ]
  },
  {
   "cell_type": "code",
   "execution_count": 28,
   "id": "9e3c8a7e-566b-46ac-9afe-0b5b73d31624",
   "metadata": {},
   "outputs": [
    {
     "data": {
      "text/html": [
       "<div>\n",
       "<style scoped>\n",
       "    .dataframe tbody tr th:only-of-type {\n",
       "        vertical-align: middle;\n",
       "    }\n",
       "\n",
       "    .dataframe tbody tr th {\n",
       "        vertical-align: top;\n",
       "    }\n",
       "\n",
       "    .dataframe thead th {\n",
       "        text-align: right;\n",
       "    }\n",
       "</style>\n",
       "<table border=\"1\" class=\"dataframe\">\n",
       "  <thead>\n",
       "    <tr style=\"text-align: right;\">\n",
       "      <th></th>\n",
       "      <th>adr_ln_1</th>\n",
       "      <th>cty</th>\n",
       "      <th>st</th>\n",
       "      <th>zip</th>\n",
       "    </tr>\n",
       "  </thead>\n",
       "  <tbody>\n",
       "    <tr>\n",
       "      <th>1</th>\n",
       "      <td>5632 ANNAPOLIS RD</td>\n",
       "      <td>BLADENSBURG</td>\n",
       "      <td>MD</td>\n",
       "      <td>207102213</td>\n",
       "    </tr>\n",
       "  </tbody>\n",
       "</table>\n",
       "</div>"
      ],
      "text/plain": [
       "            adr_ln_1          cty  st        zip\n",
       "1  5632 ANNAPOLIS RD  BLADENSBURG  MD  207102213"
      ]
     },
     "execution_count": 28,
     "metadata": {},
     "output_type": "execute_result"
    }
   ],
   "source": [
    "#get range\n",
    "x=0\n",
    "x=x+1\n",
    "addressbatch = geoaddress.iloc[1:2]\n",
    "addressbatch"
   ]
  },
  {
   "cell_type": "code",
   "execution_count": 29,
   "id": "c25c0e29-b642-4db2-86ac-b4974d2b6509",
   "metadata": {},
   "outputs": [],
   "source": [
    "#make row index\n",
    "addressbatch.columns = addressbatch.iloc[0]\n",
    "addressbatch = addressbatch[1:]"
   ]
  },
  {
   "cell_type": "code",
   "execution_count": 30,
   "id": "46f8be99-2308-4133-9ac6-c6c844e5fb2c",
   "metadata": {},
   "outputs": [
    {
     "data": {
      "text/html": [
       "<div>\n",
       "<style scoped>\n",
       "    .dataframe tbody tr th:only-of-type {\n",
       "        vertical-align: middle;\n",
       "    }\n",
       "\n",
       "    .dataframe tbody tr th {\n",
       "        vertical-align: top;\n",
       "    }\n",
       "\n",
       "    .dataframe thead th {\n",
       "        text-align: right;\n",
       "    }\n",
       "</style>\n",
       "<table border=\"1\" class=\"dataframe\">\n",
       "  <thead>\n",
       "    <tr style=\"text-align: right;\">\n",
       "      <th>1</th>\n",
       "      <th>5632 ANNAPOLIS RD</th>\n",
       "      <th>BLADENSBURG</th>\n",
       "      <th>MD</th>\n",
       "      <th>207102213</th>\n",
       "    </tr>\n",
       "  </thead>\n",
       "  <tbody>\n",
       "  </tbody>\n",
       "</table>\n",
       "</div>"
      ],
      "text/plain": [
       "Empty DataFrame\n",
       "Columns: [5632 ANNAPOLIS RD, BLADENSBURG, MD, 207102213]\n",
       "Index: []"
      ]
     },
     "execution_count": 30,
     "metadata": {},
     "output_type": "execute_result"
    }
   ],
   "source": [
    "addressbatch"
   ]
  },
  {
   "cell_type": "code",
   "execution_count": 31,
   "id": "c7872d6f-43a5-45b0-8b4f-d82e5ceeee90",
   "metadata": {},
   "outputs": [],
   "source": [
    "#build csv\n",
    "output_file = 'addresses.csv'\n",
    "output_dir = Path('Users/johannahoang/PycharmProjects/NationalDocData')\n",
    "output_dir.mkdir(parents=True, exist_ok=True)\n",
    "addressbatch.to_csv(output_dir / output_file)  # can join path elements with / operator"
   ]
  },
  {
   "cell_type": "code",
   "execution_count": 32,
   "id": "a6f894f5-db70-4403-9481-265816beb027",
   "metadata": {},
   "outputs": [],
   "source": [
    "#read one line of csv\n",
    "URL = 'https://geocoding.geo.census.gov/geocoder/locations/addressbatch'\n",
    "with open('/Users/johannahoang/PycharmProjects/NationalDocData/Users/johannahoang/PycharmProjects/NationalDocData/addresses.csv', 'rb') as input_file:\n",
    "    geo = requests.post(files={'addressFile': input_file}, url=URL, data={'benchmark':'Public_AR_Current'})"
   ]
  },
  {
   "cell_type": "markdown",
   "id": "a0ee9df1-3c92-408e-8ab4-010793e176c9",
   "metadata": {},
   "source": [
    "#data = need to change response to text and separate values\n",
    "\n",
    "gdf = pd.read_csv(io.StringIO(geo.text), sep=',', header=None, quoting=csv.QUOTE_ALL, index_col= False)\n",
    "gdf.reset_index()"
   ]
  },
  {
   "cell_type": "markdown",
   "id": "33319291-00ed-42b3-bee2-51c6008b6c77",
   "metadata": {},
   "source": [
    "# Looping all the values now"
   ]
  },
  {
   "cell_type": "code",
   "execution_count": 73,
   "id": "9130e7d6-5cde-4339-b179-2368d5f2b839",
   "metadata": {},
   "outputs": [
    {
     "name": "stdout",
     "output_type": "stream",
     "text": [
      "              Latitude           Longitude                 Primary  \\\n",
      "0   -83.56973712399997   36.45086948900007      NURSE PRACTITIONER   \n",
      "1   -76.92014292199997   38.93927167000004      NURSE PRACTITIONER   \n",
      "2  -104.81961909699999  41.171238189000064       INTERNAL MEDICINE   \n",
      "3   -75.73508861399995   40.86876549600004            CHIROPRACTIC   \n",
      "4  -118.57960257299999  34.168001512000046  CLINICAL SOCIAL WORKER   \n",
      "5   -73.62646380899997   41.02953406100005               OPTOMETRY   \n",
      "6   -98.38457212999998   40.92259203400005          ANESTHESIOLOGY   \n",
      "7  -115.26197265499997  36.218289311000035         FAMILY PRACTICE   \n",
      "8   -98.53511370899997  29.514970250000033               NEUROLOGY   \n",
      "9   -96.96143273199999   32.86541246000007               NEUROLOGY   \n",
      "\n",
      "                 Address                                        Geometry  \n",
      "0        1582 N BROAD ST    POINT (-83.56973712399997 36.45086948900007)  \n",
      "1      5632 ANNAPOLIS RD    POINT (-76.92014292199997 38.93927167000004)  \n",
      "2       611 E CARLSON ST  POINT (-104.81961909699999 41.171238189000064)  \n",
      "3            30 RIVER ST    POINT (-75.73508861399995 40.86876549600004)  \n",
      "4     20501 VENTURA BLVD  POINT (-118.57960257299999 34.168001512000046)  \n",
      "5       87 GREENWICH AVE    POINT (-73.62646380899997 41.02953406100005)  \n",
      "6        826 N DIERS AVE    POINT (-98.38457212999998 40.92259203400005)  \n",
      "7    7660 W CHEYENNE AVE  POINT (-115.26197265499997 36.218289311000035)  \n",
      "8  4402 VANCE JACKSON RD   POINT (-98.53511370899997 29.514970250000033)  \n",
      "9     1110 COTTONWOOD LN    POINT (-96.96143273199999 32.86541246000007)  \n"
     ]
    }
   ],
   "source": [
    "batch = 10\n",
    "geo_dict=[]\n",
    "\n",
    "#to keep the same number of indexes even for data that don't match (only would return 3 versus the 8)\n",
    "\n",
    "for x in range(batch):\n",
    "    y=x+1\n",
    "    addressbatch = geoaddress.iloc[x:y]\n",
    "    addressbatch.columns = addressbatch.iloc[0]\n",
    "    addressbatch = addressbatch[1:]\n",
    "    #build csv\n",
    "    output_file = 'addresses.csv'\n",
    "    output_dir = Path('Users/johannahoang/PycharmProjects/NationalDocData')\n",
    "    output_dir.mkdir(parents=True, exist_ok=True)\n",
    "    addressbatch.to_csv(output_dir / output_file) \n",
    "    \n",
    "    #read one line of csv\n",
    "    URL = 'https://geocoding.geo.census.gov/geocoder/locations/addressbatch'\n",
    "    with open('/Users/johannahoang/PycharmProjects/NationalDocData/Users/johannahoang/PycharmProjects/NationalDocData/addresses.csv', 'rb') as input_file:\n",
    "        geo = requests.post(files={'addressFile': input_file}, url=URL, data={'benchmark':'Public_AR_Current'})\n",
    "    gdf = pd.read_csv(io.StringIO(geo.text), sep=',', header=None, quoting=csv.QUOTE_ALL, index_col= False, names=names)\n",
    "    gdf.reset_index()\n",
    "    #get coordinates\n",
    "    coord = gdf.iloc[0][5]\n",
    "    primary= addresses['pri_spec'].iloc[x]\n",
    "    lat, lon = coord.split(',')\n",
    "    \n",
    "    #establishing dictionary to append to geo_dict\n",
    "    new_dict = {}\n",
    "    new_dict['Latitude'] = lat\n",
    "    new_dict['Longitude'] = lon\n",
    "    new_dict['Primary'] = primary\n",
    "    new_dict['Address'] = addresses['adr_ln_1'].iloc[x]\n",
    "    new_dict['Geometry'] = Point(float(lat), float(lon))\n",
    "    geo_dict.append(new_dict)\n",
    "    x=x+1\n",
    "\n",
    "    \n",
    "geo_df = pd.DataFrame(geo_dict)\n",
    "print(geo_df)\n"
   ]
  },
  {
   "cell_type": "code",
   "execution_count": 58,
   "id": "3325d066-3d6d-4fba-ab6b-7666ebb8d152",
   "metadata": {},
   "outputs": [
    {
     "name": "stdout",
     "output_type": "stream",
     "text": [
      "                  Primary             Address  \\\n",
      "0      NURSE PRACTITIONER     1582 N BROAD ST   \n",
      "1      NURSE PRACTITIONER   5632 ANNAPOLIS RD   \n",
      "2       INTERNAL MEDICINE    611 E CARLSON ST   \n",
      "3            CHIROPRACTIC         30 RIVER ST   \n",
      "4  CLINICAL SOCIAL WORKER  20501 VENTURA BLVD   \n",
      "\n",
      "                                         Geometry  \n",
      "0    POINT (-83.56973712399997 36.45086948900007)  \n",
      "1    POINT (-76.92014292199997 38.93927167000004)  \n",
      "2  POINT (-104.81961909699999 41.171238189000064)  \n",
      "3    POINT (-75.73508861399995 40.86876549600004)  \n",
      "4  POINT (-118.57960257299999 34.168001512000046)  \n"
     ]
    }
   ],
   "source": [
    "gdf = geo_df[['Primary', 'Address', 'Geometry']].fillna(0)\n",
    "# gdf = geo_df[['Primary', 'Address', 'Geometry']].fillna(0)\n",
    "# gdf.explore()\n",
    "print(gdf)\n"
   ]
  },
  {
   "cell_type": "code",
   "execution_count": 65,
   "id": "6cb59bf4-4cc0-4945-8394-7ca3bad53b4b",
   "metadata": {},
   "outputs": [
    {
     "name": "stdout",
     "output_type": "stream",
     "text": [
      "<class 'shapely.geometry.point.Point'>\n"
     ]
    }
   ],
   "source": [
    "print(type(geo_df['Geometry'].iloc[1]))"
   ]
  },
  {
   "cell_type": "markdown",
   "id": "cf20ac93-743d-4512-a3ea-6b7d98566c02",
   "metadata": {},
   "source": [
    "# Try different batch method\n",
    "- from:AswanMorder https://github.com/AswanMordor/NationalDocDatasetProject/blob/main/SpecalitiesByLocation.ipynb"
   ]
  },
  {
   "cell_type": "code",
   "execution_count": 77,
   "id": "134176d9-c076-4227-b2e4-73956fe730ad",
   "metadata": {},
   "outputs": [
    {
     "name": "stdout",
     "output_type": "stream",
     "text": [
      "(5000, 8)\n",
      "     id                                      given_address     match  \\\n",
      "0  4970  576 TENIENTE CESAR GONZALEZ, SAN JUAN, PR, 009...  No_Match   \n",
      "1  3640         277 ALEXANDER ST, ROCHESTER, NY, 146071920     Match   \n",
      "2  4971            430 W BROADWAY, NEW YORK, NY, 100123784     Match   \n",
      "3  2306       901 N HERITAGE DR, RIDGECREST, CA, 935555541  No_Match   \n",
      "4  3638    3371 US HWY 1 154, LAWRENCEVILLE, NJ, 086481307     Match   \n",
      "\n",
      "  match_level                         official_address  \\\n",
      "0         NaN                                      NaN   \n",
      "1       Exact   277 ALEXANDER ST, ROCHESTER, NY, 14607   \n",
      "2   Non_Exact      430 W BROADWAY, NEW YORK, NY, 10012   \n",
      "3         NaN                                      NaN   \n",
      "4   Non_Exact  3371 US HWY 1, LAWRENCEVILLE, NJ, 08648   \n",
      "\n",
      "                                long_lat  tertiary_coord letter  \n",
      "0                                    NaN             NaN    NaN  \n",
      "1   -77.59533428599997,43.15327105000006      14540384.0      L  \n",
      "2  -74.00129134699995,40.725319425000066      59660280.0      L  \n",
      "3                                    NaN             NaN    NaN  \n",
      "4   -74.68255313199995,40.29474811600005      60221891.0      L  \n"
     ]
    }
   ],
   "source": [
    "test_batch_size = 10\n",
    "# 'adr_ln_1', 'cty', 'st', 'zip'\n",
    "csv_headers = ['adr_ln_1', 'cty', 'st', 'zip']\n",
    "addresses[:5000].to_csv('batched_addresses.csv', columns=csv_headers, header=None)\n",
    "\n",
    "URL = 'https://geocoding.geo.census.gov/geocoder/locations/addressbatch'\n",
    "with open('batched_addresses.csv', 'rb') as input_file:\n",
    "    geo = requests.post(files={'addressFile': input_file}, url=URL, data={'benchmark':'Public_AR_Current'})\n",
    "    \n",
    "names = [\n",
    "    'id',\n",
    "    'given_address',\n",
    "    'match',\n",
    "    'match_level',\n",
    "    'official_address',\n",
    "    'long_lat',\n",
    "    'tertiary_coord',\n",
    "    'letter'\n",
    "]\n",
    " # from: https://github.com/msjopyho/NationalDocDatasetProject/blob/main/NationalDocDatasetProject.ipynb\n",
    "gdf = pd.read_csv(io.StringIO(geo.text.strip('\\n')), sep=',', header=None, quoting=csv.QUOTE_ALL, index_col= False, names=names)\n",
    "print(gdf.shape)\n",
    "print(gdf.head())\n"
   ]
  },
  {
   "cell_type": "code",
   "execution_count": 82,
   "id": "317c0906-9d8a-458d-8006-aaa31174bb1c",
   "metadata": {},
   "outputs": [],
   "source": [
    "#clean data (remove NaN values)\n",
    "test_df = pd.DataFrame(gdf)"
   ]
  },
  {
   "cell_type": "code",
   "execution_count": 87,
   "id": "9bf23128-1eca-431d-bd73-142814ed3628",
   "metadata": {},
   "outputs": [
    {
     "name": "stdout",
     "output_type": "stream",
     "text": [
      "(3918, 8)\n"
     ]
    }
   ],
   "source": [
    "clean_gdf = gdf.dropna(subset = ['letter'])\n",
    "print(clean_gdf.shape)"
   ]
  },
  {
   "cell_type": "code",
   "execution_count": null,
   "id": "eb0f6b42-c0a8-4fd7-952f-c0292ab2055b",
   "metadata": {},
   "outputs": [],
   "source": []
  }
 ],
 "metadata": {
  "kernelspec": {
   "display_name": "Python 3 (ipykernel)",
   "language": "python",
   "name": "python3"
  },
  "language_info": {
   "codemirror_mode": {
    "name": "ipython",
    "version": 3
   },
   "file_extension": ".py",
   "mimetype": "text/x-python",
   "name": "python",
   "nbconvert_exporter": "python",
   "pygments_lexer": "ipython3",
   "version": "3.10.4"
  }
 },
 "nbformat": 4,
 "nbformat_minor": 5
}
